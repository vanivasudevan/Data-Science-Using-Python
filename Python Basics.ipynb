{
 "cells": [
  {
   "cell_type": "markdown",
   "id": "327a7369",
   "metadata": {},
   "source": [
    "# Unit 1"
   ]
  },
  {
   "cell_type": "markdown",
   "id": "aa6fc053",
   "metadata": {},
   "source": [
    "## Basics of Python"
   ]
  },
  {
   "cell_type": "markdown",
   "id": "43534310",
   "metadata": {},
   "source": [
    "### Data Types in python"
   ]
  },
  {
   "cell_type": "code",
   "execution_count": 1,
   "id": "f2e47cfb",
   "metadata": {},
   "outputs": [
    {
     "name": "stdout",
     "output_type": "stream",
     "text": [
      "<class 'int'> <class 'float'> <class 'str'>\n"
     ]
    }
   ],
   "source": [
    "num1 = 17\n",
    "num2 = 10.0\n",
    "pre = 'Py'\n",
    "print(type(num1),type(num2),type(pre))"
   ]
  },
  {
   "cell_type": "markdown",
   "id": "3ce2a40c",
   "metadata": {},
   "source": [
    "### Variables in python"
   ]
  },
  {
   "cell_type": "code",
   "execution_count": 2,
   "id": "24c5709e",
   "metadata": {},
   "outputs": [],
   "source": [
    "_num1= 3"
   ]
  },
  {
   "cell_type": "markdown",
   "id": "59f7f6c5",
   "metadata": {},
   "source": [
    "### Basic Operations in python"
   ]
  },
  {
   "cell_type": "markdown",
   "id": "50a94645",
   "metadata": {},
   "source": [
    "#### Number"
   ]
  },
  {
   "cell_type": "code",
   "execution_count": 3,
   "id": "eb385d8e",
   "metadata": {},
   "outputs": [
    {
     "name": "stdout",
     "output_type": "stream",
     "text": [
      "num1/_num1= 5.666666666666667\n",
      "num1//_num1= 5\n",
      "num1%_num1= 2\n"
     ]
    }
   ],
   "source": [
    "print(\"num1/_num1= {}\".format(num1/_num1))\n",
    "print(\"num1//_num1= {}\".format(num1//_num1))\n",
    "print(\"num1%_num1= {}\".format(num1%_num1))\n"
   ]
  },
  {
   "cell_type": "markdown",
   "id": "a692fdba",
   "metadata": {},
   "source": [
    "#### String/Text   \n",
    "Python Strings are immutable"
   ]
  },
  {
   "cell_type": "code",
   "execution_count": 4,
   "id": "4edd980b",
   "metadata": {},
   "outputs": [
    {
     "name": "stdout",
     "output_type": "stream",
     "text": [
      "C:\\some\n",
      "ame\n",
      "C:\\some\\name\n",
      "unununium\n",
      "Python\n",
      "Python\n",
      "Put several strings within parentheses to have them joined together.\n"
     ]
    }
   ],
   "source": [
    "print('C:\\some\\name')\n",
    "print(r'C:\\some\\name')  # print as it is\n",
    "print(3 * 'un' + 'ium')\n",
    "print('Py' 'thon') # concatenation\n",
    "print(pre + 'thon')  # variable and string literal use +\n",
    "text = ('Put several strings within parentheses '\n",
    "        'to have them joined together.')\n",
    "print(text)"
   ]
  },
  {
   "cell_type": "markdown",
   "id": "03399b12",
   "metadata": {},
   "source": [
    "#### Indexing"
   ]
  },
  {
   "cell_type": "code",
   "execution_count": 5,
   "id": "67c5b8a4",
   "metadata": {},
   "outputs": [
    {
     "name": "stdout",
     "output_type": "stream",
     "text": [
      "D\n",
      "a\n",
      "e\n",
      "c\n",
      "S\n"
     ]
    }
   ],
   "source": [
    "word = \"Data Science\"\n",
    "print(word[0])\n",
    "print(word[1])\n",
    "print(word[-1])\n",
    "print(word[-2])\n",
    "print(word[-7])"
   ]
  },
  {
   "cell_type": "markdown",
   "id": "d94eddd1",
   "metadata": {},
   "source": [
    "#### Slicing"
   ]
  },
  {
   "cell_type": "code",
   "execution_count": 6,
   "id": "5dc234b2",
   "metadata": {},
   "outputs": [
    {
     "name": "stdout",
     "output_type": "stream",
     "text": [
      "Da\n",
      "Data\n",
      "Science\n",
      "Science\n",
      "Data Science\n",
      "Science\n"
     ]
    }
   ],
   "source": [
    "print(word[0:2]) # characters from position 0 (included) to 2 (excluded)\n",
    "print(word[:4] )  # character from the beginning to position 2 (excluded)\n",
    "print(word[5:])   # characters from position 4 (included) to the end\n",
    "print(word[-7:])  # characters from the second-last (included) to the end\n",
    "print(word[:2] + word[2:])\n",
    "print(word[5:42])"
   ]
  },
  {
   "cell_type": "markdown",
   "id": "71bfb0aa",
   "metadata": {},
   "source": [
    "#### Control Flow"
   ]
  },
  {
   "cell_type": "markdown",
   "id": "8f66674b",
   "metadata": {},
   "source": [
    "##### if elif else"
   ]
  },
  {
   "cell_type": "code",
   "execution_count": 8,
   "id": "b8947a1c",
   "metadata": {},
   "outputs": [
    {
     "name": "stdout",
     "output_type": "stream",
     "text": [
      "Please enter an integer: 45\n",
      "More\n"
     ]
    }
   ],
   "source": [
    "x = int(input(\"Please enter an integer: \"))\n",
    "if x <0:\n",
    "    x=0\n",
    "    print(\"Negative changed to Zero\")\n",
    "elif x == 0:\n",
    "    print('Zero')\n",
    "elif x == 1:\n",
    "    print('Single')\n",
    "else:\n",
    "    print('More')"
   ]
  },
  {
   "cell_type": "markdown",
   "id": "4c1d3ff9",
   "metadata": {},
   "source": [
    "##### for,break,else, contiue"
   ]
  },
  {
   "cell_type": "code",
   "execution_count": 9,
   "id": "9dcadcff",
   "metadata": {},
   "outputs": [
    {
     "name": "stdout",
     "output_type": "stream",
     "text": [
      "0\n",
      "1\n",
      "2\n",
      "3\n",
      "4\n",
      "5\n",
      "6\n",
      "7\n",
      "8\n",
      "9\n"
     ]
    }
   ],
   "source": [
    "for i in range(10):\n",
    "    print(i)"
   ]
  },
  {
   "cell_type": "code",
   "execution_count": 10,
   "id": "454f646d",
   "metadata": {},
   "outputs": [
    {
     "name": "stdout",
     "output_type": "stream",
     "text": [
      "2 is a prime number\n",
      "3 is a prime number\n",
      "4 equals 2 * 2\n",
      "5 is a prime number\n",
      "6 equals 2 * 3\n",
      "7 is a prime number\n",
      "8 equals 2 * 4\n",
      "9 equals 3 * 3\n"
     ]
    }
   ],
   "source": [
    "for n in range(2, 10):\n",
    "    for x in range(2, n):\n",
    "        if n % x == 0:\n",
    "            print(n, 'equals', x, '*', n//x)\n",
    "            break\n",
    "    else:\n",
    "        # loop fell through without finding a factor\n",
    "        print(n, 'is a prime number')"
   ]
  },
  {
   "cell_type": "code",
   "execution_count": null,
   "id": "1bd834a7",
   "metadata": {},
   "outputs": [],
   "source": [
    "for num in range(2, 10):\n",
    "    if num % 2 == 0:\n",
    "        print(\"Found an even number\", num)\n",
    "        continue\n",
    "    print(\"Found an odd number\", num)"
   ]
  },
  {
   "cell_type": "markdown",
   "id": "52b59f57",
   "metadata": {},
   "source": [
    "##### pass"
   ]
  },
  {
   "cell_type": "code",
   "execution_count": null,
   "id": "dc3a97d2",
   "metadata": {},
   "outputs": [],
   "source": [
    "class MyEmptyClass:\n",
    "    pass"
   ]
  },
  {
   "cell_type": "markdown",
   "id": "793fb137",
   "metadata": {},
   "source": [
    "##### match , function"
   ]
  },
  {
   "cell_type": "code",
   "execution_count": null,
   "id": "d398fd2b",
   "metadata": {},
   "outputs": [],
   "source": [
    "def http_error(status):\n",
    "    match status:\n",
    "        case 400:\n",
    "            return \"Bad request\"\n",
    "        case 404:\n",
    "            return \"Not found\"\n",
    "        case 418:\n",
    "            return \"I'm a teapot\"\n",
    "        case _:\n",
    "            return \"Something's wrong with the internet\""
   ]
  },
  {
   "cell_type": "code",
   "execution_count": null,
   "id": "b1e687cb",
   "metadata": {},
   "outputs": [],
   "source": [
    "http_error(404)"
   ]
  },
  {
   "cell_type": "code",
   "execution_count": null,
   "id": "4c4f6ec8",
   "metadata": {},
   "outputs": [],
   "source": [
    "class Point:\n",
    "    def __init__(self, x, y):\n",
    "        self.x = x\n",
    "        self.y = y\n",
    "\n",
    "def where_is(point):\n",
    "    match point:\n",
    "        case Point(x=0, y=0):\n",
    "            print(\"Origin\")\n",
    "        case Point(x=0, y=y):\n",
    "            print(f\"Y={y}\")\n",
    "        case Point(x=x, y=0):\n",
    "            print(f\"X={x}\")\n",
    "        case Point():\n",
    "            print(\"Somewhere else\")\n",
    "        case _:\n",
    "            print(\"Not a point\")"
   ]
  },
  {
   "cell_type": "code",
   "execution_count": null,
   "id": "973cd47c",
   "metadata": {},
   "outputs": [],
   "source": [
    "pt=Point(0,10)"
   ]
  },
  {
   "cell_type": "code",
   "execution_count": null,
   "id": "b8da07fa",
   "metadata": {},
   "outputs": [],
   "source": [
    "where_is(pt)"
   ]
  },
  {
   "cell_type": "code",
   "execution_count": null,
   "id": "87109e76",
   "metadata": {},
   "outputs": [],
   "source": [
    "def fib(n):    # write Fibonacci series up to n\n",
    "    \"\"\"Print a Fibonacci series up to\n",
    "    n.\"\"\"\n",
    "    a, b = 0, 1\n",
    "    while a < n:\n",
    "        print(a, end=' ')\n",
    "        a, b = b, a+b\n",
    "    print()"
   ]
  },
  {
   "cell_type": "code",
   "execution_count": null,
   "id": "ba077ab3",
   "metadata": {},
   "outputs": [],
   "source": [
    "fib(100)"
   ]
  },
  {
   "cell_type": "code",
   "execution_count": null,
   "id": "8e0c1e13",
   "metadata": {},
   "outputs": [],
   "source": [
    "f=fib"
   ]
  },
  {
   "cell_type": "code",
   "execution_count": null,
   "id": "5a775f19",
   "metadata": {},
   "outputs": [],
   "source": [
    "f(1000)"
   ]
  },
  {
   "cell_type": "markdown",
   "id": "466817c4",
   "metadata": {},
   "source": [
    "###### More on defining function"
   ]
  },
  {
   "cell_type": "code",
   "execution_count": null,
   "id": "07a9cbce",
   "metadata": {},
   "outputs": [],
   "source": [
    "def ask_ok(prompt, retries=4, reminder='Please try again!'):\n",
    "    while True:\n",
    "        reply = input(prompt)\n",
    "        if reply in {'y', 'ye', 'yes'}:\n",
    "            return True\n",
    "        if reply in {'n', 'no', 'nop', 'nope'}:\n",
    "            return False\n",
    "         retries = retries - 1\n",
    "        if retries < 0:\n",
    "            raise ValueError('invalid user response')\n",
    "        print(reminder)"
   ]
  },
  {
   "cell_type": "code",
   "execution_count": null,
   "id": "d07605f9",
   "metadata": {},
   "outputs": [],
   "source": [
    "ask_ok('Is it ok to exit?',10)"
   ]
  },
  {
   "cell_type": "code",
   "execution_count": null,
   "id": "001669cb",
   "metadata": {},
   "outputs": [],
   "source": [
    "def f(a, L=[]):\n",
    "    L.append(a)\n",
    "    return L\n",
    "\n",
    "print(f(1))\n",
    "print(f(2))\n",
    "print(f(3))"
   ]
  },
  {
   "cell_type": "code",
   "execution_count": null,
   "id": "b40c640d",
   "metadata": {},
   "outputs": [],
   "source": [
    "def parrot(voltage, state='a stiff', action='voom', type='Norwegian Blue'):\n",
    "    print(\"-- This parrot wouldn't\", action, end=' ')\n",
    "    print(\"if you put\", voltage, \"volts through it.\")\n",
    "    print(\"-- Lovely plumage, the\", type)\n",
    "    print(\"-- It's\", state, \"!\")"
   ]
  }
 ],
 "metadata": {
  "kernelspec": {
   "display_name": "Python 3 (ipykernel)",
   "language": "python",
   "name": "python3"
  },
  "language_info": {
   "codemirror_mode": {
    "name": "ipython",
    "version": 3
   },
   "file_extension": ".py",
   "mimetype": "text/x-python",
   "name": "python",
   "nbconvert_exporter": "python",
   "pygments_lexer": "ipython3",
   "version": "3.11.5"
  }
 },
 "nbformat": 4,
 "nbformat_minor": 5
}
