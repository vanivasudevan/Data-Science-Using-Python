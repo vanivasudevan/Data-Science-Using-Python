{
 "cells": [
  {
   "cell_type": "code",
   "execution_count": null,
   "id": "2c3f1daa",
   "metadata": {},
   "outputs": [],
   "source": [
    "import numpy as np"
   ]
  },
  {
   "cell_type": "code",
   "execution_count": null,
   "id": "5fcbfb8e",
   "metadata": {},
   "outputs": [],
   "source": [
    "np?  # numpy built-in doc"
   ]
  },
  {
   "cell_type": "code",
   "execution_count": null,
   "id": "3a67b017",
   "metadata": {},
   "outputs": [],
   "source": [
    "np.  # press <TAB> to display all the contents of numpy namespace"
   ]
  },
  {
   "cell_type": "code",
   "execution_count": null,
   "id": "c22961ca",
   "metadata": {},
   "outputs": [],
   "source": [
    "np.__version__  # Version of numpy "
   ]
  },
  {
   "cell_type": "markdown",
   "id": "41330abf",
   "metadata": {},
   "source": [
    "##### Creating Arrays from Python Lists"
   ]
  },
  {
   "cell_type": "code",
   "execution_count": null,
   "id": "0104e832",
   "metadata": {},
   "outputs": [],
   "source": [
    "# integer array:\n",
    "np.array(range(10))"
   ]
  },
  {
   "cell_type": "code",
   "execution_count": null,
   "id": "a0ad1504",
   "metadata": {},
   "outputs": [],
   "source": [
    "\"\"\"Remember that unlike Python lists, NumPy is constrained to arrays that all contain\n",
    "the same type. If types do not match, NumPy will upcast if possible (here, integers are\n",
    "upcast to floating point)\"\"\"\n",
    "np.array([3.14, 4, 2, 3])"
   ]
  },
  {
   "cell_type": "code",
   "execution_count": null,
   "id": "bcfd9d0a",
   "metadata": {},
   "outputs": [],
   "source": [
    "np.array([1, 2, 3, 4], dtype='int')\n"
   ]
  },
  {
   "cell_type": "code",
   "execution_count": null,
   "id": "9055c779",
   "metadata": {},
   "outputs": [],
   "source": [
    "np.array?"
   ]
  },
  {
   "cell_type": "code",
   "execution_count": null,
   "id": "1f6ae373",
   "metadata": {},
   "outputs": [],
   "source": [
    "# nested lists result in multidimensional arrays\n",
    "np.array([range(i, i + 3) for i in [2, 4, 6]])"
   ]
  },
  {
   "cell_type": "markdown",
   "id": "4c043b57",
   "metadata": {},
   "source": [
    "##### Creating Arrays from Scratch"
   ]
  },
  {
   "cell_type": "code",
   "execution_count": null,
   "id": "6468ef93",
   "metadata": {},
   "outputs": [],
   "source": [
    "#Create a length-10 integer array filled with zeros\n",
    "np.zeros(10,dtype='int')"
   ]
  },
  {
   "cell_type": "code",
   "execution_count": null,
   "id": "a6de3171",
   "metadata": {},
   "outputs": [],
   "source": [
    "np.ones?"
   ]
  },
  {
   "cell_type": "code",
   "execution_count": null,
   "id": "efd6e0c8",
   "metadata": {},
   "outputs": [],
   "source": [
    "# Create a 3x5 floating-point array filled with 1s\n",
    "np.ones((3, 5),dtype='int')"
   ]
  },
  {
   "cell_type": "code",
   "execution_count": null,
   "id": "007cb867",
   "metadata": {},
   "outputs": [],
   "source": [
    "# Create a 3x5 array filled with 3.14\n",
    "np.full((3, 5), 3.14)"
   ]
  },
  {
   "cell_type": "code",
   "execution_count": null,
   "id": "a22c5f1c",
   "metadata": {},
   "outputs": [],
   "source": [
    "# Create an array filled with a linear sequence\n",
    "# Starting at 0, ending at 20, stepping by 2\n",
    "# (this is similar to the built-in range() function)\n",
    "np.arange(0, 20, 2)"
   ]
  },
  {
   "cell_type": "code",
   "execution_count": null,
   "id": "1a42f239",
   "metadata": {},
   "outputs": [],
   "source": [
    "# Create an array of five values evenly spaced between 0 and 1\n",
    "np.linspace(0, 1, 5)"
   ]
  },
  {
   "cell_type": "code",
   "execution_count": null,
   "id": "2d93d088",
   "metadata": {},
   "outputs": [],
   "source": [
    "# Create a 3x3 array of uniformly distributed\n",
    "# random values between 0 and 1\n",
    "np.random.random((3, 3))"
   ]
  },
  {
   "cell_type": "code",
   "execution_count": null,
   "id": "5642577a",
   "metadata": {},
   "outputs": [],
   "source": [
    "#Create a 3x3 array of normally distributed random values\n",
    "# with mean 0 and standard deviation 1\n",
    "np.random.normal(0, 1, (3, 3))"
   ]
  },
  {
   "cell_type": "code",
   "execution_count": null,
   "id": "cbf187d7",
   "metadata": {},
   "outputs": [],
   "source": [
    "# Create a 3x3 array of random integers in the interval [0, 10)\n",
    "np.random.randint(0, 10, (3, 3))"
   ]
  },
  {
   "cell_type": "code",
   "execution_count": null,
   "id": "bc8504cd",
   "metadata": {},
   "outputs": [],
   "source": [
    "# Create a 3x3 identity matrix\n",
    "np.eye(3)"
   ]
  },
  {
   "cell_type": "code",
   "execution_count": null,
   "id": "20cb8e22",
   "metadata": {},
   "outputs": [],
   "source": [
    "# Create an uninitialized array of three integers\n",
    "# The values will be whatever happens to already exist at that\n",
    "# memory location\n",
    "np.empty(4)"
   ]
  },
  {
   "cell_type": "markdown",
   "id": "9b981fd8",
   "metadata": {},
   "source": [
    "### NumPy Standard Data Types\n",
    "NumPy arrays contain values of a single type, so it is important to have detailed\n",
    "knowledge of those types and their limitations. Because NumPy is built in C, the\n",
    "types will be familiar to users of C, Fortran, and other related languages."
   ]
  },
  {
   "cell_type": "markdown",
   "id": "7cf0aef2",
   "metadata": {},
   "source": [
    "###### Data type Description<br>\n",
    "bool_ Boolean (True or False) stored as a byte<br>\n",
    "int_ Default integer type (same as C long; normally either int64 or int32)<br>\n",
    "intc Identical to C int (normally int32 or int64)<br>\n",
    "intp Integer used for indexing (same as C ssize_t; normally either int32 or int64)<br>\n",
    "int8 Byte (–128 to 127)<br>\n",
    "int16 Integer (–32768 to 32767)<br>\n",
    "int32 Integer (–2147483648 to 2147483647)<br>\n",
    "int64 Integer (–9223372036854775808 to 9223372036854775807)<br>\n",
    "uint8 Unsigned integer (0 to 255)<br>\n",
    "uint16 Unsigned integer (0 to 65535)<br>\n",
    "uint32 Unsigned integer (0 to 4294967295)<br>\n",
    "uint64 Unsigned integer (0 to 18446744073709551615)<br>\n",
    "float_ Shorthand for float64<br>\n",
    "float16 Half-precision float: sign bit, 5 bits exponent, 10 bits mantissa<br>\n",
    "float32 Single-precision float: sign bit, 8 bits exponent, 23 bits mantissa<br>\n",
    "float64 Double-precision float: sign bit, 11 bits exponent, 52 bits mantissa<br>\n",
    "complex_ Shorthand for complex128<br>\n",
    "complex64 Complex number, represented by two 32-bit floats<br>\n",
    "complex128 Complex number, represented by two 64-bit floats<br>\n",
    "Refer for  more advanced datatypes in https://numpy.org"
   ]
  },
  {
   "cell_type": "markdown",
   "id": "81bca1e1",
   "metadata": {},
   "source": [
    "##### The Basics of NumPy Arrays"
   ]
  },
  {
   "cell_type": "markdown",
   "id": "becf720d",
   "metadata": {},
   "source": [
    "Attributes of arrays:\n",
    "Determining the size, shape, memory consumption, and data types of arrays"
   ]
  },
  {
   "cell_type": "code",
   "execution_count": null,
   "id": "c7d798ad",
   "metadata": {},
   "outputs": [],
   "source": [
    "np.random.seed(0) # seed for reproducibility\n",
    "x1 = np.random.randint(10, size=6) # One-dimensional array\n",
    "x2 = np.random.randint(10, size=(3, 4)) # Two-dimensional array\n",
    "x3 = np.random.randint(10, size=(3, 4, 5)) # Three-dimensional array"
   ]
  },
  {
   "cell_type": "code",
   "execution_count": null,
   "id": "54b1650f",
   "metadata": {},
   "outputs": [],
   "source": [
    "print(x1)"
   ]
  },
  {
   "cell_type": "code",
   "execution_count": null,
   "id": "af63766d",
   "metadata": {},
   "outputs": [],
   "source": [
    "print(x2)"
   ]
  },
  {
   "cell_type": "code",
   "execution_count": null,
   "id": "1119578f",
   "metadata": {},
   "outputs": [],
   "source": [
    "print(x3)"
   ]
  },
  {
   "cell_type": "code",
   "execution_count": null,
   "id": "51cd91b8",
   "metadata": {},
   "outputs": [],
   "source": [
    "\"\"\"Each array has attributes ndim (the number of dimensions), shape (the size of each\n",
    "dimension), and size (the total size of the array):\"\"\"\n",
    "print(\"x3 ndim: \", x3.ndim)\n",
    "print(\"x3 shape:\", x3.shape)\n",
    "print(\"x3 size: \", x3.size)"
   ]
  },
  {
   "cell_type": "code",
   "execution_count": null,
   "id": "e7f7b624",
   "metadata": {},
   "outputs": [],
   "source": [
    "print(\"dtype:\", x3.dtype)"
   ]
  },
  {
   "cell_type": "code",
   "execution_count": null,
   "id": "1adc5227",
   "metadata": {},
   "outputs": [],
   "source": [
    "\"\"\"Other attributes include itemsize, which lists the size (in bytes) of each array element,\n",
    "and nbytes, which lists the total size (in bytes) of the array\"\"\"\n",
    "print(\"itemsize:\", x3.itemsize, \"bytes\")\n",
    "print(\"nbytes:\", x3.nbytes, \"bytes\")"
   ]
  },
  {
   "cell_type": "code",
   "execution_count": null,
   "id": "844b911d",
   "metadata": {},
   "outputs": [],
   "source": [
    "#Array Indexing: Accessing Single Elements\n",
    "x2[0, 0]"
   ]
  },
  {
   "cell_type": "code",
   "execution_count": null,
   "id": "cb19a6a3",
   "metadata": {},
   "outputs": [],
   "source": [
    "x2[2, -1]"
   ]
  },
  {
   "cell_type": "code",
   "execution_count": null,
   "id": "0852ce4a",
   "metadata": {},
   "outputs": [],
   "source": [
    "x2[0, 0] = 12\n",
    "x2"
   ]
  },
  {
   "cell_type": "code",
   "execution_count": null,
   "id": "1630569b",
   "metadata": {},
   "outputs": [],
   "source": [
    "#Array Slicing: Accessing Subarrays\n",
    "#x[start:stop:step]\n",
    "#One-dimensional subarrays\n",
    "x = np.arange(10)\n",
    "x"
   ]
  },
  {
   "cell_type": "code",
   "execution_count": null,
   "id": "2ac76d83",
   "metadata": {},
   "outputs": [],
   "source": [
    "print(x[:5] )# first five elements\n",
    "print (x[5:]) # elements after index 5\n",
    "print(x[4:7]) # middle subarray"
   ]
  },
  {
   "cell_type": "code",
   "execution_count": null,
   "id": "7e2a5d84",
   "metadata": {},
   "outputs": [],
   "source": [
    "x[::2] # every other element"
   ]
  },
  {
   "cell_type": "code",
   "execution_count": null,
   "id": "08d0d9dc",
   "metadata": {},
   "outputs": [],
   "source": [
    "x[1::2] # every other element, starting at index 1"
   ]
  },
  {
   "cell_type": "code",
   "execution_count": null,
   "id": "c5bd8c34",
   "metadata": {},
   "outputs": [],
   "source": [
    "\"\"\"A potentially confusing case is when the step value is negative. In this case, the\n",
    "defaults for start and stop are swapped. This becomes a convenient way to reverse\n",
    "an array\"\"\"\n",
    "x[::-1] # all elements, reversed"
   ]
  },
  {
   "cell_type": "code",
   "execution_count": null,
   "id": "c262650d",
   "metadata": {},
   "outputs": [],
   "source": [
    "x[5::-2] # reversed every other from index 5"
   ]
  },
  {
   "cell_type": "markdown",
   "id": "6b0ef617",
   "metadata": {},
   "source": [
    "##### Multidimensional subarrays\n",
    "Multidimensional slices work in the same way, with multiple slices separated by commas.\n",
    "For example:"
   ]
  },
  {
   "cell_type": "code",
   "execution_count": null,
   "id": "d063eb48",
   "metadata": {},
   "outputs": [],
   "source": [
    "x2"
   ]
  },
  {
   "cell_type": "code",
   "execution_count": null,
   "id": "231b9d0b",
   "metadata": {},
   "outputs": [],
   "source": [
    "x2[:2, :3] # two rows, three columns"
   ]
  },
  {
   "cell_type": "code",
   "execution_count": null,
   "id": "ca21e7dc",
   "metadata": {},
   "outputs": [],
   "source": [
    "x2[:3, ::2] # all rows, every other column"
   ]
  },
  {
   "cell_type": "code",
   "execution_count": null,
   "id": "88f44a76",
   "metadata": {},
   "outputs": [],
   "source": [
    "x2[::-1, ::-1]"
   ]
  },
  {
   "cell_type": "code",
   "execution_count": null,
   "id": "7641a1f1",
   "metadata": {},
   "outputs": [],
   "source": [
    "print(x2[:, 0])\n",
    "print(x2[0, :]) #x2[0]"
   ]
  },
  {
   "cell_type": "markdown",
   "id": "c1c03e17",
   "metadata": {},
   "source": [
    "###### Subarrays as no-copy views"
   ]
  },
  {
   "cell_type": "code",
   "execution_count": null,
   "id": "ed0d2511",
   "metadata": {},
   "outputs": [],
   "source": [
    "\"\"\"One important—and extremely useful—thing to know about array slices is that they\n",
    "return views rather than copies of the array data. This is one area in which NumPy\n",
    "array slicing differs from Python list slicing: in lists, slices will be copies\"\"\"\n",
    "print(\"\\nx2\\n\",x2)\n",
    "x2_sub = x2[:2, :2]\n",
    "print(\"\\nx2_sub\\n\",x2_sub)\n",
    "x2_sub[0, 0] = 99\n",
    "print(\"\\nx2_sub\\n\",x2_sub)\n",
    "print(\"\\nx2\\n\",x2)"
   ]
  },
  {
   "cell_type": "code",
   "execution_count": null,
   "id": "1cf1caa3",
   "metadata": {},
   "outputs": [],
   "source": [
    "x2_sub_copy = x2[:2, :2].copy()\n",
    "print(x2_sub_copy)"
   ]
  },
  {
   "cell_type": "code",
   "execution_count": null,
   "id": "48e7f040",
   "metadata": {},
   "outputs": [],
   "source": [
    "x2_sub_copy[0, 0] = 42\n",
    "print(x2_sub_copy)"
   ]
  },
  {
   "cell_type": "code",
   "execution_count": null,
   "id": "37056dfc",
   "metadata": {},
   "outputs": [],
   "source": [
    "print(x2)"
   ]
  },
  {
   "cell_type": "markdown",
   "id": "aa1e5047",
   "metadata": {},
   "source": [
    "###### Reshaping of Arrays"
   ]
  },
  {
   "cell_type": "code",
   "execution_count": null,
   "id": "4cf51a7e",
   "metadata": {},
   "outputs": [],
   "source": [
    "\"\"\"Another useful type of operation is reshaping of arrays. The most flexible way of\n",
    "doing this is with the reshape() method. For example, if you want to put the numbers\n",
    "1 through 9 in a 3×3 grid, you can do the following:\"\"\"\n",
    "grid = np.arange(1, 10).reshape((3, 3))\n",
    "print(grid)"
   ]
  },
  {
   "cell_type": "code",
   "execution_count": null,
   "id": "8419d271",
   "metadata": {},
   "outputs": [],
   "source": [
    "x = np.array([1, 2, 3])\n",
    "# row vector via reshape\n",
    "x.reshape((1, 3))"
   ]
  },
  {
   "cell_type": "code",
   "execution_count": null,
   "id": "cbedb66a",
   "metadata": {},
   "outputs": [],
   "source": [
    "# row vector via newaxis\n",
    "x[np.newaxis,:]"
   ]
  },
  {
   "cell_type": "code",
   "execution_count": null,
   "id": "ac51d92d",
   "metadata": {},
   "outputs": [],
   "source": [
    "# column vector via reshape\n",
    "x.reshape((3, 1))"
   ]
  },
  {
   "cell_type": "code",
   "execution_count": null,
   "id": "d413feef",
   "metadata": {},
   "outputs": [],
   "source": [
    "# column vector via newaxis\n",
    "x[:, np.newaxis]"
   ]
  },
  {
   "cell_type": "markdown",
   "id": "7089bba0",
   "metadata": {},
   "source": [
    "###### Array Concatenation and Splitting"
   ]
  },
  {
   "cell_type": "code",
   "execution_count": null,
   "id": "37ad00a2",
   "metadata": {},
   "outputs": [],
   "source": [
    "x= np.array([1, 2, 3])\n",
    "y = np.array([3, 2, 1])\n",
    "np.concatenate([x, y])"
   ]
  },
  {
   "cell_type": "code",
   "execution_count": null,
   "id": "b66d76c3",
   "metadata": {},
   "outputs": [],
   "source": [
    "z = [99, 99, 99]\n",
    "np.concatenate([x, y,z])"
   ]
  },
  {
   "cell_type": "code",
   "execution_count": null,
   "id": "60fa267c",
   "metadata": {},
   "outputs": [],
   "source": [
    "# concatenate along the first axis\n",
    "grid = np.array([[1, 2, 3],[4, 5, 6]])\n",
    "np.concatenate([grid,grid])"
   ]
  },
  {
   "cell_type": "code",
   "execution_count": null,
   "id": "45c4f0bd",
   "metadata": {},
   "outputs": [],
   "source": [
    "# concatenate along the second axis\n",
    "np.concatenate([grid,grid],axis=1)"
   ]
  },
  {
   "cell_type": "code",
   "execution_count": null,
   "id": "dd868061",
   "metadata": {},
   "outputs": [],
   "source": [
    "\"\"\"For working with arrays of mixed dimensions, it can be clearer to use the np.vstack\n",
    "(vertical stack) and np.hstack (horizontal stack) functions\"\"\"\n",
    "x = np.array([1, 2, 3])\n",
    "grid = np.array([[9, 8, 7],[6, 5, 4]])\n",
    "# vertically stack the arrays\n",
    "np.vstack([x, grid])"
   ]
  },
  {
   "cell_type": "code",
   "execution_count": null,
   "id": "6f9ac61e",
   "metadata": {},
   "outputs": [],
   "source": [
    "# horizontally stack the arrays\n",
    "y = np.array([[99],\n",
    "[99]])\n",
    "np.hstack([grid, y])"
   ]
  },
  {
   "cell_type": "code",
   "execution_count": null,
   "id": "1641d61c",
   "metadata": {},
   "outputs": [],
   "source": [
    "x = np.arange(9)\n",
    "np.split(x, 3)\n",
    "\"\"\"If `indices_or_sections` is a 1-D array of sorted integers, the entries\n",
    "    indicate where along `axis` the array is split.  For example,\n",
    "    ``[2, 3]`` would, for ``axis=0``, result in\n",
    "\n",
    "      - ary[:2]\n",
    "      - ary[2:3]\n",
    "      - ary[3:]\"\"\"\n",
    "np.split(x, [2,3])"
   ]
  },
  {
   "cell_type": "code",
   "execution_count": null,
   "id": "7d33c72e",
   "metadata": {},
   "outputs": [],
   "source": [
    "grid = np.arange(16).reshape((4, 4))\n",
    "upper, lower = np.vsplit(grid, [2])\n",
    "print(upper)\n",
    "print(lower)"
   ]
  },
  {
   "cell_type": "markdown",
   "id": "fab7c661",
   "metadata": {},
   "source": [
    "###### Universal functions (ufunc)\n",
    "###### Arithmetic operators implemented in NumPy"
   ]
  },
  {
   "cell_type": "markdown",
   "id": "286c810c",
   "metadata": {},
   "source": [
    "+  np.add Addition (e.g., 1 + 1 = 2)<br>\n",
    "+ np.subtract Subtraction (e.g., 3 - 2 = 1)<br>\n",
    "+  np.negative Unary negation (e.g., -2)<br>\n",
    "+  np.multiply Multiplication (e.g., 2 * 3 = 6)<br>\n",
    "+  np.divide Division (e.g., 3 / 2 = 1.5)\n",
    "+  np.floor_divide Floor division (e.g., 3 // 2 = 1)<br>\n",
    "+  np.power Exponentiation (e.g., 2 ** 3 = 8)<br>\n",
    "+  np.mod Modulus/remainder (e.g., 9 % 4 = 1)<br>"
   ]
  },
  {
   "cell_type": "code",
   "execution_count": null,
   "id": "af5f3439",
   "metadata": {},
   "outputs": [],
   "source": [
    "x = np.arange(4)\n",
    "print(\"x =\", x)\n",
    "print(\"x + 5 =\", x + 5)\n",
    "print(\"x - 5 =\", x - 5)\n",
    "print(\"x * 2 =\", x * 2)\n",
    "print(\"x / 2 =\", x / 2)\n",
    "print(\"x // 2 =\", x // 2) # floor division\n",
    "print(\"-x = \", -x)\n",
    "print(\"x ** 2 = \", x ** 2)\n",
    "print(\"x % 2 = \", x % 2)"
   ]
  },
  {
   "cell_type": "code",
   "execution_count": null,
   "id": "177a5c19",
   "metadata": {},
   "outputs": [],
   "source": [
    "np.add(x, 2)"
   ]
  },
  {
   "cell_type": "code",
   "execution_count": null,
   "id": "e138a35c",
   "metadata": {},
   "outputs": [],
   "source": [
    "#Trignometric function \n",
    "theta = np.linspace(0, np.pi, 3)\n",
    "theta"
   ]
  },
  {
   "cell_type": "code",
   "execution_count": null,
   "id": "5a7a0cc8",
   "metadata": {},
   "outputs": [],
   "source": [
    "print(\"theta = \", theta)\n",
    "print(\"sin(theta) = \", np.sin(theta))\n",
    "print(\"cos(theta) = \", np.cos(theta))\n",
    "print(\"tan(theta) = \", np.tan(theta))"
   ]
  },
  {
   "cell_type": "code",
   "execution_count": null,
   "id": "34c5369c",
   "metadata": {},
   "outputs": [],
   "source": [
    "#Exponents and logarithms\n",
    "x = [1, 2, 3]\n",
    "print(\"x =\", x)\n",
    "print(\"e^x =\", np.exp(x))\n",
    "print(\"2^x =\", np.exp2(x))\n",
    "print(\"3^x =\", np.power(3, x))\n",
    "x = [1, 2, 4, 10]\n",
    "print(\"x =\", x)\n",
    "print(\"ln(x) =\", np.log(x))\n",
    "print(\"log2(x) =\", np.log2(x))\n",
    "print(\"log10(x) =\", np.log10(x))"
   ]
  },
  {
   "cell_type": "code",
   "execution_count": null,
   "id": "65253a0f",
   "metadata": {},
   "outputs": [],
   "source": [
    "x = np.arange(5)\n",
    "y = np.empty(5)\n",
    "np.multiply(x, 10, out=y)\n",
    "print(y)"
   ]
  },
  {
   "cell_type": "code",
   "execution_count": null,
   "id": "f0a98ada",
   "metadata": {},
   "outputs": [],
   "source": [
    "y = np.zeros(10)\n",
    "np.power(2, x, out=y[::2])\n",
    "print(y)"
   ]
  },
  {
   "cell_type": "markdown",
   "id": "5bbe06b1",
   "metadata": {},
   "source": [
    "###### Aggregates"
   ]
  },
  {
   "cell_type": "code",
   "execution_count": null,
   "id": "da5f36e5",
   "metadata": {},
   "outputs": [],
   "source": [
    "\n",
    "\"\"\"For binary ufuncs, there are some interesting aggregates that can be computed\n",
    "directly from the object.\"\"\"\n",
    "x = np.arange(1, 7)\n",
    "np.add.reduce(x)"
   ]
  },
  {
   "cell_type": "code",
   "execution_count": null,
   "id": "1804d7ef",
   "metadata": {},
   "outputs": [],
   "source": [
    "np.multiply.reduce(x)"
   ]
  },
  {
   "cell_type": "code",
   "execution_count": null,
   "id": "6bc02ee7",
   "metadata": {},
   "outputs": [],
   "source": [
    "np.add.accumulate(x)"
   ]
  },
  {
   "cell_type": "code",
   "execution_count": null,
   "id": "58300153",
   "metadata": {},
   "outputs": [],
   "source": [
    "np.multiply.accumulate(x)"
   ]
  },
  {
   "cell_type": "code",
   "execution_count": null,
   "id": "d7e8dcd7",
   "metadata": {},
   "outputs": [],
   "source": [
    "x = np.arange(1, 6)\n",
    "np.multiply.outer(x, x)"
   ]
  },
  {
   "cell_type": "code",
   "execution_count": null,
   "id": "13ba090e",
   "metadata": {},
   "outputs": [],
   "source": [
    "L = np.arange(10)\n",
    "np.sum(L)"
   ]
  },
  {
   "cell_type": "code",
   "execution_count": null,
   "id": "0f033d59",
   "metadata": {},
   "outputs": [],
   "source": [
    "big_array = np.random.rand(1000000)\n",
    "%timeit sum(big_array)\n",
    "%timeit np.sum(big_array)"
   ]
  },
  {
   "cell_type": "code",
   "execution_count": null,
   "id": "76e2ecb3",
   "metadata": {},
   "outputs": [],
   "source": [
    "%timeit min(big_array)\n",
    "%timeit np.max(big_array)"
   ]
  },
  {
   "cell_type": "code",
   "execution_count": null,
   "id": "40d5552d",
   "metadata": {},
   "outputs": [],
   "source": [
    "#Multidimensional aggregates\n",
    "M = np.random.random((3, 4))\n",
    "print(M)\n"
   ]
  },
  {
   "cell_type": "code",
   "execution_count": null,
   "id": "c9ed9bc9",
   "metadata": {},
   "outputs": [],
   "source": [
    "M.sum()"
   ]
  },
  {
   "cell_type": "code",
   "execution_count": null,
   "id": "5ff7a688",
   "metadata": {},
   "outputs": [],
   "source": [
    "M.min(axis=0)"
   ]
  },
  {
   "cell_type": "code",
   "execution_count": null,
   "id": "814610e7",
   "metadata": {},
   "outputs": [],
   "source": [
    "M.max(axis=1)"
   ]
  },
  {
   "cell_type": "markdown",
   "id": "5bf1fd6c",
   "metadata": {},
   "source": [
    "###### Other aggregation functions\n",
    "Function Name    NaN-safe       Version Description<br>\n",
    "np.sum          np.nansum        Compute sum of elements<br>\n",
    "np.prod         np.nanprod       Compute product of elements<br>\n",
    "np.mean         np.nanmean       Compute median of elements<br>\n",
    "np.std          np.nanstd        Compute standard deviation<br>\n",
    "np.var          np.nanvar        Compute variance<br>\n",
    "np.min          np.nanmin        Find minimum value<br>\n",
    "np.max          np.nanmax        Find maximum value<br>\n",
    "np.argmin       np.nanargmin     Find index of minimum value<br>\n",
    "np.argmax       np.nanargmax     Find index of maximum value<br>\n",
    "np.median       np.nanmedian     Compute median of elements<br>\n",
    "np.percentile   np.nanpercentile Compute rank-based statistics of elements<br>\n",
    "np.any          N/A              Evaluate whether any elements are true<br>\n",
    "np.all          N/A              Evaluate whether all elements are true<br>"
   ]
  },
  {
   "cell_type": "markdown",
   "id": "d17a0059",
   "metadata": {},
   "source": [
    "###### Comparison Operators as ufuncs"
   ]
  },
  {
   "cell_type": "code",
   "execution_count": null,
   "id": "b883c0bb",
   "metadata": {},
   "outputs": [],
   "source": [
    "x = np.array([1, 2, 3, 4, 5])\n",
    "print(x < 3) # less than\n",
    "print(x > 3) # greater than\n",
    "print(x <= 3) # less than or equal\n",
    "print(x >= 3) # greater than or equal\n",
    "print(x != 3) # not equal\n",
    "print(x == 3) # equal"
   ]
  },
  {
   "cell_type": "code",
   "execution_count": null,
   "id": "3a97eb8c",
   "metadata": {},
   "outputs": [],
   "source": [
    "x=np.random.randint(10,size=(3,4))\n",
    "x"
   ]
  },
  {
   "cell_type": "code",
   "execution_count": null,
   "id": "25c26513",
   "metadata": {},
   "outputs": [],
   "source": [
    "# how many values less than 6?\n",
    "np.count_nonzero(x < 6)"
   ]
  },
  {
   "cell_type": "code",
   "execution_count": null,
   "id": "b5b55178",
   "metadata": {},
   "outputs": [],
   "source": [
    "np.sum(x < 6)"
   ]
  },
  {
   "cell_type": "code",
   "execution_count": null,
   "id": "5052cdb1",
   "metadata": {},
   "outputs": [],
   "source": [
    "# how many values less than 6 in each row?\n",
    "np.sum(x < 6, axis=1)"
   ]
  },
  {
   "cell_type": "code",
   "execution_count": null,
   "id": "0913b051",
   "metadata": {},
   "outputs": [],
   "source": [
    "# are there any values greater than 8?\n",
    "np.any(x > 8)"
   ]
  },
  {
   "cell_type": "code",
   "execution_count": null,
   "id": "770c6a52",
   "metadata": {},
   "outputs": [],
   "source": [
    "# are all values less than 10?\n",
    "np.all(x < 10)"
   ]
  },
  {
   "cell_type": "code",
   "execution_count": null,
   "id": "a3d2d070",
   "metadata": {},
   "outputs": [],
   "source": []
  }
 ],
 "metadata": {
  "kernelspec": {
   "display_name": "Python 3 (ipykernel)",
   "language": "python",
   "name": "python3"
  },
  "language_info": {
   "codemirror_mode": {
    "name": "ipython",
    "version": 3
   },
   "file_extension": ".py",
   "mimetype": "text/x-python",
   "name": "python",
   "nbconvert_exporter": "python",
   "pygments_lexer": "ipython3",
   "version": "3.11.5"
  }
 },
 "nbformat": 4,
 "nbformat_minor": 5
}
